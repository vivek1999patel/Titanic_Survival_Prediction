{
 "cells": [],
 "metadata": {
  "kernelspec": {
   "display_name": "vp_env",
   "language": "python",
   "name": "python3"
  },
  "language_info": {
   "name": "python",
   "version": "3.9.6"
  }
 },
 "nbformat": 4,
 "nbformat_minor": 5
}
